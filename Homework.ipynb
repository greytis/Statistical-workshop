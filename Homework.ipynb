{
 "cells": [
  {
   "cell_type": "markdown",
   "metadata": {
    "id": "xw8BD8v2oBGj"
   },
   "source": [
    "# Homework"
   ]
  },
  {
   "cell_type": "markdown",
   "metadata": {
    "id": "sSos7q2_oBGj"
   },
   "source": [
    "## Problem 1"
   ]
  },
  {
   "cell_type": "markdown",
   "metadata": {
    "id": "NiX8ePp0oBGk"
   },
   "source": [
    "Make a tuple containing natural numbers, the square of which is a multiple of 3, 4, but not a multiple of 8 and not exceeding 12345."
   ]
  },
  {
   "cell_type": "code",
   "execution_count": 88,
   "metadata": {
    "id": "XmPHEnS9oBGk"
   },
   "outputs": [
    {
     "name": "stdout",
     "output_type": "stream",
     "text": [
      "(6, 18, 30, 42, 54, 66, 78, 90, 102)\n"
     ]
    }
   ],
   "source": [
    "res = []\n",
    "for n in range (1, 12345):\n",
    "    square = n*n \n",
    "    if ((square % 3 == 0) and (square % 4 == 0)) and (square % 8 != 0) and (square <=12345):\n",
    "        res.append(n)\n",
    "print(tuple(res))"
   ]
  },
  {
   "cell_type": "markdown",
   "metadata": {
    "id": "OZBeUyxcoBGk"
   },
   "source": [
    "## Problem 2"
   ]
  },
  {
   "cell_type": "markdown",
   "metadata": {
    "id": "zIfvg22noBGk"
   },
   "source": [
    "\n",
    "Write a function that takes a two-dimensional array and a string as input and returns an array rotated 90 degrees counterclockwise if the string 'left' was passed, and clockwise if the string 'right' was passed.\n",
    "\n",
    "Example for input: $\\begin{bmatrix} 1 & 2 & 3 \\\\ 4 & 5 & 6 \\\\ 7 & 8 & 9 \\end{bmatrix}$.\\\n",
    "If the string 'left' is passed, the function should return $\\begin{bmatrix} 3 & 6 & 9 \\\\ 2 & 5 & 8 \\\\ 1 & 4 & 7 \\end{bmatrix}$, and if the string 'right' is passed, the function should return $\\begin{bmatrix} 7 & 4 & 1 \\\\ 8 & 5 & 2 \\\\ 9 & 6 & 3 \\end{bmatrix}$."
   ]
  },
  {
   "cell_type": "code",
   "execution_count": 26,
   "metadata": {
    "id": "HNvy_cRjoBGk"
   },
   "outputs": [
    {
     "name": "stdin",
     "output_type": "stream",
     "text": [
      "Количество строк:  3\n",
      "Количество столбцов:  3\n"
     ]
    },
    {
     "name": "stdout",
     "output_type": "stream",
     "text": [
      "Вводите элементы матрицы построчно:\n"
     ]
    },
    {
     "name": "stdin",
     "output_type": "stream",
     "text": [
      "Строка 1 (введите 3 чисел через пробел):  1 2 3\n",
      "Строка 2 (введите 3 чисел через пробел):  4 5 6\n",
      "Строка 3 (введите 3 чисел через пробел):  7 8 9\n",
      "Введите направление поворота: 'left', если против часовой стрелки, 'right', если по часовой стрелке):  left\n"
     ]
    },
    {
     "name": "stdout",
     "output_type": "stream",
     "text": [
      "Результат:\n",
      "[3, 6, 9]\n",
      "[2, 5, 8]\n",
      "[1, 4, 7]\n"
     ]
    }
   ],
   "source": [
    "def rotate_matrix(matrix, direction):\n",
    "    \n",
    "    rows = len(matrix)\n",
    "    if (rows > 0):\n",
    "        cols = len(matrix[0])\n",
    "    else: 0\n",
    "    \n",
    "    res = [[0 for i in range(rows)] for i in range(cols)]\n",
    "    if direction == 'left':\n",
    "        for i in range(rows):\n",
    "            for j in range(cols):\n",
    "                res[cols - j - 1][i] = matrix[i][j]\n",
    "    elif direction == 'right':\n",
    "        for i in range(rows):\n",
    "            for j in range(cols):\n",
    "                res[j][rows - i - 1] = matrix[i][j]\n",
    "    return res\n",
    "\n",
    "rows = int(input(\"Количество строк: \"))\n",
    "cols = int(input(\"Количество столбцов: \"))\n",
    "\n",
    "matrix = []\n",
    "print(\"Вводите элементы матрицы построчно:\")\n",
    "for i in range(rows):\n",
    "    row = list(map(int, input(f\"Строка {i + 1} (введите {cols} чисел через пробел): \").split()))\n",
    "    matrix.append(row)\n",
    "\n",
    "direction = input(\"Введите направление поворота: 'left', если против часовой стрелки, 'right', если по часовой стрелке): \").strip()\n",
    "\n",
    "if direction not in ['left', 'right']:\n",
    "    print(\"Ошибка: направление должно быть 'left' или 'right'.\")\n",
    "else:\n",
    "    rotated_matrix = rotate_matrix(matrix, direction)   \n",
    "    print(\"Результат:\")\n",
    "    for row in rotated_matrix:\n",
    "        print(row)"
   ]
  },
  {
   "cell_type": "markdown",
   "metadata": {
    "id": "_dY-PFlCoBGk"
   },
   "source": [
    "## Problem 3"
   ]
  },
  {
   "cell_type": "markdown",
   "metadata": {
    "id": "3CaIwcm0oBGk"
   },
   "source": [
    "Write a function that takes a string as input and returns a dictionary containing the number of occurrences of each character in the string.\n",
    "\n",
    "Example for the string 'hello, world!': {'h': 1, 'e': 1, 'l': 3, 'o': 2, ',': 1, ' ': 1, 'w': 1, 'r': 1, 'd': 1, '!': 1}."
   ]
  },
  {
   "cell_type": "code",
   "execution_count": 35,
   "metadata": {
    "id": "rlSbHusZoBGk"
   },
   "outputs": [
    {
     "name": "stdin",
     "output_type": "stream",
     "text": [
      "Строка:  Hello, world!\n"
     ]
    },
    {
     "name": "stdout",
     "output_type": "stream",
     "text": [
      "{'H': 1, 'e': 1, 'l': 3, 'o': 2, ',': 1, ' ': 1, 'w': 1, 'r': 1, 'd': 1, '!': 1}\n"
     ]
    }
   ],
   "source": [
    "def count_characters(string):\n",
    "    res = {}\n",
    "    for s in string:\n",
    "        if (s in res):\n",
    "            res[s] += 1\n",
    "        else:\n",
    "            res[s] = 1\n",
    "    return res\n",
    "\n",
    "string = input(\"Строка: \")\n",
    "res = count_characters(string)\n",
    "print(res)\n",
    "        "
   ]
  },
  {
   "cell_type": "markdown",
   "metadata": {
    "id": "KBGJ7PeboBGk"
   },
   "source": [
    "## Problem 4"
   ]
  },
  {
   "cell_type": "markdown",
   "metadata": {
    "id": "XS4Seqa9oBGk"
   },
   "source": [
    "### Implementing a Library Management System\n",
    "\n",
    "#### Description\n",
    "\n",
    "You are required to design and implement a system for managing books and users in a library. The system should allow for the management of books (adding, deleting, searching by various criteria) and users (registration, deletion, searching), as well as tracking the history of interactions between them (issuing and returning books).\n",
    "\n",
    "#### Tasks\n",
    "\n",
    "1. **`Book` Class**:\n",
    "   - Attributes: title, author, year of publication, ISBN, number of copies.\n",
    "   - Methods: constructor, methods to get information about the book, method to change the number of copies (when issuing and returning books).\n",
    "\n",
    "2. **`User` Class**:\n",
    "   - Attributes: user name, library card number, list of borrowed books.\n",
    "   - Methods: constructor, methods for user registration, methods for adding and removing books from the borrowed list.\n",
    "\n",
    "3. **`Library` Class**:\n",
    "   - Attributes: list of books, list of users, transaction history (who, when, which book was borrowed and returned).\n",
    "   - Methods: constructor, methods for adding and deleting books and users, methods for issuing and returning books, searching for books and users by various criteria, method to display the transaction history.\n",
    "\n",
    "#### Assignment\n",
    "\n",
    "1. Implement the `Book`, `User`, and `Library` classes with the specified attributes and methods.\n",
    "2. Create several books and users, and add them to the library system.\n",
    "3. Implement scenarios for issuing books to users and their return.\n",
    "4. Display the transaction history to show how books were issued and returned.\n"
   ]
  },
  {
   "cell_type": "code",
   "execution_count": 98,
   "metadata": {
    "id": "IbqwtWWsoBGl"
   },
   "outputs": [
    {
     "name": "stdout",
     "output_type": "stream",
     "text": [
      "Пользователь Антон Иванов зарегистрирован с номером читательского билета 12345\n",
      "Пользователь Анастасия Петрова зарегистрирован с номером читательского билета 67890\n",
      "Антон Иванов взял книгу Властелин колец\n",
      "Анастасия Петрова взял книгу Гордость и предубеждение\n",
      "Антон Иванов взял книгу Убить пересмешника\n",
      "Анастасия Петрова взял книгу Убить пересмешника\n",
      "Антон Иванов вернул книгу Властелин колец\n",
      "\n",
      "Результаты поиска по 'колец':\n",
      "Название: Властелин колец, Автор: Дж.Р.Р. Толкин, Год: 1954, ISBN: 978-0618260221, Экземпляры: 5\n",
      "\n",
      "Результаты поиска по 'Антон':\n",
      "Пользователь Антон Иванов, номер 12345\n",
      "\n",
      "\n",
      "История транзакций:\n",
      "2025-02-16 19:08:29.659701 - Антон Иванов взял книгу Властелин колец\n",
      "2025-02-16 19:08:29.659701 - Анастасия Петрова взял книгу Гордость и предубеждение\n",
      "2025-02-16 19:08:29.659701 - Антон Иванов взял книгу Убить пересмешника\n",
      "2025-02-16 19:08:29.659701 - Анастасия Петрова взял книгу Убить пересмешника\n",
      "2025-02-16 19:08:29.659701 - Антон Иванов вернул книгу Властелин колец\n"
     ]
    }
   ],
   "source": [
    "import datetime\n",
    "\n",
    "class Book:\n",
    "    \n",
    "    def __init__(self, title, author, year, isbn, copies):\n",
    "        self.title = title\n",
    "        self.author = author\n",
    "        self.year = year\n",
    "        self.isbn = isbn\n",
    "        self.copies = copies\n",
    "        \n",
    "    def get_info(self):\n",
    "        return f\"Название: {self.title}, Автор: {self.author}, Год: {self.year}, ISBN: {self.isbn}, Экземпляры: {self.copies}\"\n",
    "\n",
    "    def increase_copies(self, quantity):\n",
    "        self.copies += quantity\n",
    "\n",
    "    def decrease_copies(self, quantity):\n",
    "        if self.copies >= quantity:\n",
    "            self.copies -= quantity\n",
    "        else:\n",
    "            print(\"Недостаточно экземпляров.\")\n",
    "\n",
    "class User:\n",
    "\n",
    "    def __init__(self, name, card_number):\n",
    "        self.name = name\n",
    "        self.card_number = card_number\n",
    "        self.borrowed_books = []\n",
    "    \n",
    "    def get_info(self):\n",
    "        return f\"Пользователь {self.name}, номер {self.card_number}\"\n",
    "\n",
    "    def register(self):\n",
    "        print(f\"Пользователь {self.name} зарегистрирован с номером читательского билета {self.card_number}\")\n",
    "\n",
    "    def add_borrowed_book(self, book):\n",
    "        self.borrowed_books.append(book)\n",
    "\n",
    "    def remove_borrowed_book(self, book):\n",
    "        if book in self.borrowed_books:\n",
    "            self.borrowed_books.remove(book)\n",
    "        else:\n",
    "            print(f\"Пользователь {self.name} не брал книгу {book.title}\")\n",
    "\n",
    "class Library:\n",
    "    \n",
    "    def __init__(self):\n",
    "        self.books = [] \n",
    "        self.users = []\n",
    "        self.transaction_history = []\n",
    "\n",
    "    def add_book(self, book):\n",
    "        self.books.append(book)\n",
    "\n",
    "    def delete_book(self, book):\n",
    "        if book in self.books:\n",
    "            self.books.remove(book)\n",
    "        else:\n",
    "            print(f\"Книга {book.title} не найдена в библиотеке.\")\n",
    "\n",
    "    def add_user(self, user):\n",
    "        self.users.append(user)\n",
    "\n",
    "    def delete_user(self, user):\n",
    "\n",
    "        if user in self.users:\n",
    "            self.users.remove(user)\n",
    "        else:\n",
    "            print(f\"Пользователь {user.name} не найден в библиотеке.\")\n",
    "\n",
    "    def issue_book(self, user, book):\n",
    "        if book in self.books and book.copies > 0 and user in self.users:\n",
    "            book.decrease_copies(1)\n",
    "            user.add_borrowed_book(book)\n",
    "            self.transaction_history.append(\n",
    "                f\"{datetime.datetime.now()} - {user.name} взял книгу {book.title}\"\n",
    "            )\n",
    "            print(f\"{user.name} взял книгу {book.title}\")\n",
    "        else:\n",
    "            print(f\"Книга {book.title} недоступна или пользователь {user.name} не зарегистрирован.\")\n",
    "\n",
    "    def return_book(self, user, book):\n",
    "        if book in self.books and book in user.borrowed_books and user in self.users:\n",
    "            book.increase_copies(1)\n",
    "            user.remove_borrowed_book(book)\n",
    "            self.transaction_history.append(\n",
    "                f\"{datetime.datetime.now()} - {user.name} вернул книгу {book.title}\"\n",
    "            )\n",
    "            print(f\"{user.name} вернул книгу {book.title}\")\n",
    "        else:\n",
    "            print(f\"Книга {book.title} не может быть возвращена пользователем {user.name}. Проверьте, брал ли пользователь эту книгу или зарегистрирован ли он.\")\n",
    "\n",
    "    def search_book_by_title(self, title):\n",
    "        results = [book for book in self.books if title.lower() in book.title.lower()]\n",
    "        return results\n",
    "\n",
    "    def search_user_by_name(self, name):\n",
    "        results = [user for user in self.users if name.lower() in user.name.lower()]\n",
    "        return results\n",
    "\n",
    "    def display_transaction_history(self):\n",
    "        print(\"История транзакций:\")\n",
    "        for transaction in self.transaction_history:\n",
    "            print(transaction)\n",
    "\n",
    "\n",
    "book1 = Book(\"Властелин колец\", \"Дж.Р.Р. Толкин\", 1954, \"978-0618260221\", 5)\n",
    "book2 = Book(\"Гордость и предубеждение\", \"Джейн Остин\", 1813, \"978-0141439518\", 3)\n",
    "book3 = Book(\"Убить пересмешника\", \"Харпер Ли\", 1960, \"978-0446310789\", 2)\n",
    "\n",
    "    # Создание пользователей\n",
    "user1 = User(\"Антон Иванов\", \"12345\")\n",
    "user2 = User(\"Анастасия Петрова\", \"67890\")\n",
    "\n",
    "    # Создание библиотеки\n",
    "library = Library()\n",
    "# Добавление книг и пользователей в библиотеку\n",
    "library.add_book(book1)\n",
    "library.add_book(book2)\n",
    "library.add_book(book3)\n",
    "library.add_user(user1)\n",
    "library.add_user(user2)\n",
    "\n",
    "user1.register()\n",
    "user2.register()\n",
    "    \n",
    "library.issue_book(user1, book1)\n",
    "library.issue_book(user2, book2)\n",
    "library.issue_book(user1, book3)\n",
    "    \n",
    "library.issue_book(user2, book3)\n",
    "\n",
    "library.return_book(user1, book1)\n",
    "\n",
    "search_results = library.search_book_by_title(\"колец\")\n",
    "print(\"\\nРезультаты поиска по 'колец':\")\n",
    "for book in search_results:\n",
    "    print(book.get_info())\n",
    "\n",
    "search_results = library.search_user_by_name(\"Антон\")\n",
    "print(\"\\nРезультаты поиска по 'Антон':\")\n",
    "for user in search_results:\n",
    "    print(user.get_info())\n",
    "\n",
    "print(\"\\n\")\n",
    "library.display_transaction_history()"
   ]
  },
  {
   "cell_type": "markdown",
   "metadata": {
    "id": "0c8zRbSIoBGl"
   },
   "source": [
    "## Problem 5*"
   ]
  },
  {
   "cell_type": "markdown",
   "metadata": {
    "id": "8ltdzRmOoBGl"
   },
   "source": [
    "Explain why list `b` changes after the execution of the following code:\n",
    "\n",
    "```python\n",
    "a = [1, 2, 3]\n",
    "b = a\n",
    "a[0] = 4\n",
    "print(b)\n",
    "```"
   ]
  },
  {
   "cell_type": "markdown",
   "metadata": {
    "id": "RxgnUfFPoBGl"
   },
   "source": [
    "> Write your answer in markdown cell after:"
   ]
  },
  {
   "cell_type": "markdown",
   "metadata": {
    "id": "Mb-amOX5oBGl"
   },
   "source": [
    "Дело в том, что списки в Python являются изменяемыми объектами, и когда мы пишем b = a, мы создаем не новый список (и не копию старого списка), а новую ссылку на старый список. Все изменения, примененные к a будут применены и к b."
   ]
  },
  {
   "cell_type": "markdown",
   "metadata": {
    "id": "TmXLkc_foBGl"
   },
   "source": [
    "## Problem 6*"
   ]
  },
  {
   "cell_type": "markdown",
   "metadata": {
    "id": "Gn0ibiVCoBGl"
   },
   "source": [
    "Let\n",
    "$$A = \\sum_{i=1}^{10000} \\frac{1}{i^2},\\quad B=\\sum_{i=10000}^{1} \\frac{1}{i^2}.$$\n",
    "Calculate the values of $A$ and $B$ and compare them. What do you observe? Explain why this happens. What is the best way to calculate the value of $\\sum\\limits_{i=1}^{10000} \\dfrac{1}{i^2}$?"
   ]
  },
  {
   "cell_type": "code",
   "execution_count": 56,
   "metadata": {
    "id": "3q93uGqFoBGl"
   },
   "outputs": [
    {
     "name": "stdout",
     "output_type": "stream",
     "text": [
      "1.6448340618480652\n",
      "1.6448340618480597\n"
     ]
    }
   ],
   "source": [
    "A = 0\n",
    "for i in range (1, 10000):\n",
    "    A += 1/(i**2)\n",
    "print(A)\n",
    "\n",
    "B = 0 \n",
    "for i in range (10000-1, 0, -1):\n",
    "    B += 1/(i**2)\n",
    "print(B)"
   ]
  },
  {
   "cell_type": "markdown",
   "metadata": {},
   "source": [
    "Мы видим, что у нас получились разные числа. Это происходит из-за представления дробных чисел в виде числе с плавающей запятой. Из-за этого возникает погрешность округления и потеря точности. Для того, чтобы посчитать сумму более точно, надо складывать числа от меньшего к большему, так как иначе большие числа забьют разряды, и некоторые маленькие числа могут потеряться, то есть погрешность будет накапливаться быстрее. Таким обрахом, второй метод предпочтительнее."
   ]
  },
  {
   "cell_type": "code",
   "execution_count": null,
   "metadata": {},
   "outputs": [],
   "source": []
  }
 ],
 "metadata": {
  "colab": {
   "provenance": []
  },
  "kernelspec": {
   "display_name": "Python [conda env:base] *",
   "language": "python",
   "name": "conda-base-py"
  },
  "language_info": {
   "codemirror_mode": {
    "name": "ipython",
    "version": 3
   },
   "file_extension": ".py",
   "mimetype": "text/x-python",
   "name": "python",
   "nbconvert_exporter": "python",
   "pygments_lexer": "ipython3",
   "version": "3.12.7"
  }
 },
 "nbformat": 4,
 "nbformat_minor": 4
}
